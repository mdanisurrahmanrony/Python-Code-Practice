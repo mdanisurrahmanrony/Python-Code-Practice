{
 "cells": [
  {
   "cell_type": "code",
   "execution_count": 4,
   "metadata": {},
   "outputs": [
    {
     "name": "stdout",
     "output_type": "stream",
     "text": [
      "{'name': 'Rony', 'id': '162-15-7880', 'year': '3rd'}\n"
     ]
    }
   ],
   "source": [
    "dictionaryExample = {\n",
    "                     \"name\" : \"Rony\",\n",
    "                     \"id\" : \"162-15-7880\",\n",
    "                     \"year\" : \"3rd\"\n",
    "                    }\n",
    "\n",
    "print(dictionaryExample)"
   ]
  },
  {
   "cell_type": "code",
   "execution_count": 6,
   "metadata": {},
   "outputs": [
    {
     "name": "stdout",
     "output_type": "stream",
     "text": [
      "Rony\n"
     ]
    }
   ],
   "source": [
    "dictionaryExample = {\n",
    "                     \"name\" : \"Rony\",\n",
    "                     \"id\" : \"162-15-7880\",\n",
    "                     \"year\" : \"3rd\"\n",
    "                    }\n",
    "print(dictionaryExample['name'])"
   ]
  },
  {
   "cell_type": "code",
   "execution_count": 7,
   "metadata": {},
   "outputs": [
    {
     "name": "stdout",
     "output_type": "stream",
     "text": [
      "162-15-7880\n"
     ]
    }
   ],
   "source": [
    "print(dictionaryExample['id'])"
   ]
  },
  {
   "cell_type": "code",
   "execution_count": 9,
   "metadata": {},
   "outputs": [
    {
     "name": "stdout",
     "output_type": "stream",
     "text": [
      "Sabbir\n"
     ]
    }
   ],
   "source": [
    "dictionaryExample['name'] = 'Sabbir'\n",
    "print(dictionaryExample['name'])"
   ]
  },
  {
   "cell_type": "code",
   "execution_count": 10,
   "metadata": {},
   "outputs": [
    {
     "name": "stdout",
     "output_type": "stream",
     "text": [
      "Sabbir\n"
     ]
    }
   ],
   "source": [
    "print(dictionaryExample.get('name'))"
   ]
  },
  {
   "cell_type": "code",
   "execution_count": 11,
   "metadata": {},
   "outputs": [
    {
     "name": "stdout",
     "output_type": "stream",
     "text": [
      "name\n",
      "id\n",
      "year\n"
     ]
    }
   ],
   "source": [
    "for x in dictionaryExample:\n",
    "    print(x)"
   ]
  },
  {
   "cell_type": "code",
   "execution_count": 12,
   "metadata": {},
   "outputs": [
    {
     "name": "stdout",
     "output_type": "stream",
     "text": [
      "Sabbir\n",
      "162-15-7880\n",
      "3rd\n"
     ]
    }
   ],
   "source": [
    "for x in dictionaryExample:\n",
    "    print(dictionaryExample[x])"
   ]
  },
  {
   "cell_type": "code",
   "execution_count": 14,
   "metadata": {},
   "outputs": [
    {
     "name": "stdout",
     "output_type": "stream",
     "text": [
      "Sabbir\n",
      "162-15-7880\n",
      "3rd\n"
     ]
    }
   ],
   "source": [
    "for x in dictionaryExample.values():\n",
    "    print(x)"
   ]
  },
  {
   "cell_type": "code",
   "execution_count": 15,
   "metadata": {},
   "outputs": [
    {
     "name": "stdout",
     "output_type": "stream",
     "text": [
      "('name', 'Sabbir')\n",
      "('id', '162-15-7880')\n",
      "('year', '3rd')\n"
     ]
    }
   ],
   "source": [
    "for x in dictionaryExample.items():\n",
    "    print(x)"
   ]
  },
  {
   "cell_type": "code",
   "execution_count": 18,
   "metadata": {},
   "outputs": [
    {
     "name": "stdout",
     "output_type": "stream",
     "text": [
      "name Sabbir\n",
      "id 162-15-7880\n",
      "year 3rd\n"
     ]
    }
   ],
   "source": [
    "for x, y in dictionaryExample.items():\n",
    "    print(x, y)"
   ]
  },
  {
   "cell_type": "code",
   "execution_count": 22,
   "metadata": {},
   "outputs": [
    {
     "name": "stdout",
     "output_type": "stream",
     "text": [
      "name :  Sabbir\n",
      "id :  162-15-7880\n",
      "year :  3rd\n"
     ]
    }
   ],
   "source": [
    "for x, y in dictionaryExample.items():\n",
    "    print(x,\": \", y)"
   ]
  },
  {
   "cell_type": "code",
   "execution_count": 23,
   "metadata": {},
   "outputs": [
    {
     "name": "stdout",
     "output_type": "stream",
     "text": [
      "name\n",
      "-\n",
      "Sabbir\n",
      "id\n",
      "-\n",
      "162-15-7880\n",
      "year\n",
      "-\n",
      "3rd\n"
     ]
    }
   ],
   "source": [
    "for x, y in dictionaryExample.items():\n",
    "    print(x)\n",
    "    print(\"-\")\n",
    "    print(y)"
   ]
  },
  {
   "cell_type": "code",
   "execution_count": 28,
   "metadata": {},
   "outputs": [],
   "source": [
    "#del dictionaryExample[\"name\"]"
   ]
  },
  {
   "cell_type": "code",
   "execution_count": 27,
   "metadata": {},
   "outputs": [
    {
     "name": "stdout",
     "output_type": "stream",
     "text": [
      "{'id': '162-15-7880', 'year': '3rd'}\n"
     ]
    }
   ],
   "source": [
    "print(dictionaryExample)"
   ]
  },
  {
   "cell_type": "code",
   "execution_count": null,
   "metadata": {},
   "outputs": [],
   "source": []
  }
 ],
 "metadata": {
  "kernelspec": {
   "display_name": "Python 3",
   "language": "python",
   "name": "python3"
  },
  "language_info": {
   "codemirror_mode": {
    "name": "ipython",
    "version": 3
   },
   "file_extension": ".py",
   "mimetype": "text/x-python",
   "name": "python",
   "nbconvert_exporter": "python",
   "pygments_lexer": "ipython3",
   "version": "3.7.3"
  }
 },
 "nbformat": 4,
 "nbformat_minor": 2
}
