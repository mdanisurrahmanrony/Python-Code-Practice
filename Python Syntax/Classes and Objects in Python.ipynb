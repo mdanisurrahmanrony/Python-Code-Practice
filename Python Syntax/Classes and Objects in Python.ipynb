{
 "cells": [
  {
   "cell_type": "code",
   "execution_count": 19,
   "metadata": {},
   "outputs": [],
   "source": [
    "class User:\n",
    "    name = ''\n",
    "    email = ''\n",
    "    password = ''\n",
    "    login = False\n",
    "    \n",
    "    def login(self):\n",
    "        email = input(\"Enter email: \")\n",
    "        password = input(\"Enter password: \")\n",
    "        \n",
    "        if email == self.email and password == self.password:\n",
    "            login = True\n",
    "            print(\"Login Successfull\")\n",
    "        else:\n",
    "            print(\"Login Failed\")\n",
    "            \n",
    "    def logout(self):\n",
    "        login = False\n",
    "        print(\"Logged Out!\")\n",
    "        \n",
    "    def isLoggedIn(self):\n",
    "        if self.login:\n",
    "            return True\n",
    "        else:\n",
    "            return False\n",
    "    \n",
    "    def profile(self):\n",
    "        #Correction of next line: if self.isLoggedIn(): \n",
    "        if isLoggedIn():\n",
    "            print(self.name,\"\\n\",self.email)\n",
    "        else:\n",
    "            print(\"User is not Loggged in!\")"
   ]
  },
  {
   "cell_type": "code",
   "execution_count": 20,
   "metadata": {},
   "outputs": [],
   "source": [
    "user1 = User()"
   ]
  },
  {
   "cell_type": "code",
   "execution_count": 21,
   "metadata": {},
   "outputs": [],
   "source": [
    "user1.name = \"Rony\""
   ]
  },
  {
   "cell_type": "code",
   "execution_count": 22,
   "metadata": {},
   "outputs": [],
   "source": [
    "user1.email = \"rony@gmail.com\""
   ]
  },
  {
   "cell_type": "code",
   "execution_count": 23,
   "metadata": {},
   "outputs": [],
   "source": [
    "user1.password = \"rony1234\""
   ]
  },
  {
   "cell_type": "code",
   "execution_count": 24,
   "metadata": {},
   "outputs": [
    {
     "name": "stdout",
     "output_type": "stream",
     "text": [
      "Enter email: rony@gmail.com\n",
      "Enter password: rony1234\n",
      "Login Successfull\n"
     ]
    }
   ],
   "source": [
    "user1.login()"
   ]
  },
  {
   "cell_type": "code",
   "execution_count": 25,
   "metadata": {},
   "outputs": [
    {
     "name": "stdout",
     "output_type": "stream",
     "text": [
      "Enter email: rony\n",
      "Enter password: rony\n",
      "Login Failed\n"
     ]
    }
   ],
   "source": [
    "user1.login()"
   ]
  },
  {
   "cell_type": "code",
   "execution_count": null,
   "metadata": {},
   "outputs": [],
   "source": []
  }
 ],
 "metadata": {
  "kernelspec": {
   "display_name": "Python 3",
   "language": "python",
   "name": "python3"
  },
  "language_info": {
   "codemirror_mode": {
    "name": "ipython",
    "version": 3
   },
   "file_extension": ".py",
   "mimetype": "text/x-python",
   "name": "python",
   "nbconvert_exporter": "python",
   "pygments_lexer": "ipython3",
   "version": "3.7.3"
  }
 },
 "nbformat": 4,
 "nbformat_minor": 2
}
