{
 "cells": [
  {
   "cell_type": "code",
   "execution_count": 1,
   "metadata": {},
   "outputs": [],
   "source": [
    "class User:\n",
    "    name = ''\n",
    "    email = ''\n",
    "    password = ''\n",
    "    login = False\n",
    "    \n",
    "    def __init__(self, name, email, password):\n",
    "        self.name = name\n",
    "        self.email = email\n",
    "        self.password = password\n",
    "    \n",
    "    def login(self):\n",
    "        email = input(\"Enter email: \")\n",
    "        password = input(\"Enter password: \")\n",
    "        \n",
    "        if email == self.email and password == self.password:\n",
    "            login = True\n",
    "            print(\"Login Successfull\")\n",
    "        else:\n",
    "            print(\"Login Failed\")\n",
    "            \n",
    "    def logout(self):\n",
    "        login = False\n",
    "        print(\"Logged Out!\")\n",
    "        \n",
    "    def isLoggedIn(self):\n",
    "        if self.login:\n",
    "            return True\n",
    "        else:\n",
    "            return False\n",
    "    \n",
    "    def profile(self):\n",
    "        #Correction of next line: if self.isLoggedIn(): \n",
    "        if isLoggedIn():\n",
    "            print(self.name,\"\\n\",self.email)\n",
    "        else:\n",
    "            print(\"User is not Loggged in!\")"
   ]
  },
  {
   "cell_type": "code",
   "execution_count": 2,
   "metadata": {},
   "outputs": [],
   "source": [
    "user1 = User(\"Rony\", \"rony@gmail.com\", \"rony1234\")"
   ]
  },
  {
   "cell_type": "code",
   "execution_count": 3,
   "metadata": {},
   "outputs": [
    {
     "name": "stdout",
     "output_type": "stream",
     "text": [
      "Enter email: rony@gmail.com\n",
      "Enter password: rony1234\n",
      "Login Successfull\n"
     ]
    }
   ],
   "source": [
    "user1.login()"
   ]
  },
  {
   "cell_type": "code",
   "execution_count": 4,
   "metadata": {},
   "outputs": [
    {
     "name": "stdout",
     "output_type": "stream",
     "text": [
      "Enter email: rony\n",
      "Enter password: rony\n",
      "Login Failed\n"
     ]
    }
   ],
   "source": [
    "user1.login()"
   ]
  },
  {
   "cell_type": "code",
   "execution_count": null,
   "metadata": {},
   "outputs": [],
   "source": []
  }
 ],
 "metadata": {
  "kernelspec": {
   "display_name": "Python 3",
   "language": "python",
   "name": "python3"
  },
  "language_info": {
   "codemirror_mode": {
    "name": "ipython",
    "version": 3
   },
   "file_extension": ".py",
   "mimetype": "text/x-python",
   "name": "python",
   "nbconvert_exporter": "python",
   "pygments_lexer": "ipython3",
   "version": "3.7.3"
  }
 },
 "nbformat": 4,
 "nbformat_minor": 2
}
