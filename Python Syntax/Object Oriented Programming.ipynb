{
 "cells": [
  {
   "cell_type": "code",
   "execution_count": 1,
   "metadata": {},
   "outputs": [
    {
     "name": "stdout",
     "output_type": "stream",
     "text": [
      "I have 5 heads and I'm Black\n",
      "I also have 4 heads and I'm Yellow\n",
      "I got 3 heads and I'm Red\n"
     ]
    }
   ],
   "source": [
    "# The blueprint to create monsters\n",
    "class Monster:\n",
    "    def __init__(self, color, heads):\n",
    "        self.color = color\n",
    "        self.heads = heads\n",
    "\n",
    "# Create some real monsters\n",
    "fogthing = Monster(\"Black\", 5)\n",
    "mournsnake = Monster(\"Yellow\", 4)\n",
    "tangleface = Monster(\"Red\", 3)\n",
    "\n",
    "# Check whether those monsters got different existence in memory or not\n",
    "print('I have ' + str(fogthing.heads) + ' heads and I\\'m ' + fogthing.color)\n",
    "print('I also have ' + str(mournsnake.heads) + ' heads and I\\'m ' + mournsnake.color)\n",
    "print('I got ' + str(tangleface.heads) + ' heads and I\\'m ' + tangleface.color)"
   ]
  },
  {
   "cell_type": "code",
   "execution_count": 2,
   "metadata": {},
   "outputs": [
    {
     "name": "stdout",
     "output_type": "stream",
     "text": [
      "I have 5 heads and I'm Black\n"
     ]
    }
   ],
   "source": [
    "print('I have ' + str(fogthing.heads) + ' heads and I\\'m ' + fogthing.color)"
   ]
  },
  {
   "cell_type": "code",
   "execution_count": 3,
   "metadata": {},
   "outputs": [
    {
     "name": "stdout",
     "output_type": "stream",
     "text": [
      "I am a 4 headed monster.\n",
      "Just attacked a Hero, Mu...hahahaha!!!\n"
     ]
    }
   ],
   "source": [
    "class Monster:\n",
    "    def __init__(self, color, heads):\n",
    "        self.color = color\n",
    "        self.heads = heads\n",
    "\n",
    "    def attack(self):\n",
    "        print(\"Just attacked a Hero, Mu...hahahaha!!!\")\n",
    "\n",
    "# Create an instance/object/monster-character\n",
    "mournsnake = Monster(\"Yellow\", 4)\n",
    "# Check if its created or not\n",
    "print('I am a ' + str(mournsnake.heads) + ' headed monster.')\n",
    "# Make an attack by the new monster\n",
    "mournsnake.attack()"
   ]
  },
  {
   "cell_type": "code",
   "execution_count": 4,
   "metadata": {},
   "outputs": [
    {
     "name": "stdout",
     "output_type": "stream",
     "text": [
      "I am a 4 headed negative character\n",
      "I am a 3 headed negative character\n"
     ]
    }
   ],
   "source": [
    "class Monster:\n",
    "    identity = \"negative character\"\n",
    "\n",
    "    def __init__(self, color, heads):\n",
    "        self.color = color\n",
    "        self.heads = heads\n",
    "\n",
    "    def attack(self):\n",
    "        print(\"Just attacked a Hero, Mu...hahahaha!!!\")\n",
    "\n",
    "\n",
    "mournsnake = Monster(\"Yellow\", 4)\n",
    "tangleface = Monster(\"Red\", 3)\n",
    "\n",
    "print('I am a ' + str(mournsnake.heads) + ' headed ' + mournsnake.identity)\n",
    "print('I am a ' + str(tangleface.heads) + ' headed ' + tangleface.identity)"
   ]
  },
  {
   "cell_type": "code",
   "execution_count": 5,
   "metadata": {},
   "outputs": [
    {
     "name": "stdout",
     "output_type": "stream",
     "text": [
      "I am attacking...\n",
      "Grrrrrrrrrr\n",
      "\n",
      "I am attacking...\n",
      "Hiiissssshhhh\n",
      "\n"
     ]
    }
   ],
   "source": [
    "class Monster:\n",
    "    def __init__(self, name, color):\n",
    "        self.name = name\n",
    "        self.color = color\n",
    "\n",
    "    def attack(self):\n",
    "        print('I am attacking...')\n",
    "\n",
    "\n",
    "class Fogthing(Monster):\n",
    "    def make_sound(self):\n",
    "        print('Grrrrrrrrrr\\n')\n",
    "\n",
    "\n",
    "class Mournsnake(Monster):\n",
    "    def make_sound(self):\n",
    "        print('Hiiissssshhhh\\n')\n",
    "\n",
    "\n",
    "fogthing = Fogthing(\"Fogthing\", \"Yellow\")\n",
    "fogthing.attack()\n",
    "fogthing.make_sound()\n",
    "\n",
    "mournsnake = Mournsnake(\"Mournsnake\", \"Red\")\n",
    "mournsnake.attack()\n",
    "mournsnake.make_sound()"
   ]
  },
  {
   "cell_type": "code",
   "execution_count": 6,
   "metadata": {},
   "outputs": [
    {
     "name": "stdout",
     "output_type": "stream",
     "text": [
      "I am killing...\n",
      "Grrrrrrrrrr\n",
      "\n"
     ]
    }
   ],
   "source": [
    "class Monster:\n",
    "    def __init__(self, name, color):\n",
    "        self.name = name\n",
    "        self.color = color\n",
    "\n",
    "    def attack(self):\n",
    "        print('I am attacking...')\n",
    "\n",
    "\n",
    "class Fogthing(Monster):\n",
    "    def attack(self):\n",
    "        print('I am killing...')\n",
    "\n",
    "    def make_sound(self):\n",
    "        print('Grrrrrrrrrr\\n')\n",
    "\n",
    "\n",
    "fogthing = Fogthing(\"Fogthing\", \"Yellow\")\n",
    "fogthing.attack()\n",
    "fogthing.make_sound()"
   ]
  },
  {
   "cell_type": "code",
   "execution_count": 7,
   "metadata": {},
   "outputs": [
    {
     "name": "stdout",
     "output_type": "stream",
     "text": [
      "I am from class A\n"
     ]
    }
   ],
   "source": [
    "class A:\n",
    "    def where(self):\n",
    "        print(\"I am from class A\")\n",
    "\n",
    "\n",
    "class B:\n",
    "    def where(self):\n",
    "        print(\"I am from class B\")\n",
    "\n",
    "\n",
    "class C(A, B):\n",
    "    pass\n",
    "\n",
    "an_instance_of_c = C()\n",
    "an_instance_of_c.where()"
   ]
  },
  {
   "cell_type": "code",
   "execution_count": 10,
   "metadata": {},
   "outputs": [
    {
     "name": "stdout",
     "output_type": "stream",
     "text": [
      "2\n",
      "1\n"
     ]
    }
   ],
   "source": [
    "class A:\n",
    "    def spam(self):\n",
    "        print(1)\n",
    "\n",
    "class B(A):\n",
    "    def spam(self):\n",
    "        print(2)\n",
    "        super().spam()\n",
    "\n",
    "B().spam()"
   ]
  },
  {
   "cell_type": "code",
   "execution_count": 11,
   "metadata": {},
   "outputs": [
    {
     "name": "stdout",
     "output_type": "stream",
     "text": [
      "10\n"
     ]
    }
   ],
   "source": [
    "class MyNum():\n",
    "    def __init__(self, value):\n",
    "        self.value = value\n",
    "\n",
    "    def __add__(self, other):\n",
    "        return (self.value * 2) + (other.value * 2)\n",
    "\n",
    "\n",
    "a = MyNum(2)\n",
    "b = MyNum(3)\n",
    "\n",
    "c = a + b\n",
    "\n",
    "print(c)"
   ]
  },
  {
   "cell_type": "code",
   "execution_count": 12,
   "metadata": {},
   "outputs": [
    {
     "name": "stdout",
     "output_type": "stream",
     "text": [
      "11\n"
     ]
    }
   ],
   "source": [
    "class MyInt():\n",
    "    def __init__(self, value):\n",
    "        self.__value = value\n",
    "\n",
    "    def __int__(self):\n",
    "        return self.__value\n",
    "\n",
    "    def __add__(self, other):\n",
    "        return self.__value + int(other) * int(other)\n",
    "\n",
    "\n",
    "a = MyInt(2)\n",
    "b = MyInt(3)\n",
    "\n",
    "c = a + b\n",
    "\n",
    "print(c)"
   ]
  },
  {
   "cell_type": "code",
   "execution_count": 13,
   "metadata": {},
   "outputs": [
    {
     "name": "stdout",
     "output_type": "stream",
     "text": [
      "11\n"
     ]
    }
   ],
   "source": [
    "class MyInt():\n",
    "    def __init__(self, value):\n",
    "        self.__value = value\n",
    "\n",
    "    def __int__(self):\n",
    "        return self.__value\n",
    "\n",
    "\n",
    "    def __iadd__(self, other):\n",
    "        return self.__value + int(other) * int(other)\n",
    "\n",
    "\n",
    "a = MyInt(2)\n",
    "\n",
    "a += MyInt(3)\n",
    "\n",
    "print(a)"
   ]
  },
  {
   "cell_type": "code",
   "execution_count": null,
   "metadata": {},
   "outputs": [],
   "source": []
  }
 ],
 "metadata": {
  "kernelspec": {
   "display_name": "Python 3",
   "language": "python",
   "name": "python3"
  },
  "language_info": {
   "codemirror_mode": {
    "name": "ipython",
    "version": 3
   },
   "file_extension": ".py",
   "mimetype": "text/x-python",
   "name": "python",
   "nbconvert_exporter": "python",
   "pygments_lexer": "ipython3",
   "version": "3.7.3"
  }
 },
 "nbformat": 4,
 "nbformat_minor": 2
}
